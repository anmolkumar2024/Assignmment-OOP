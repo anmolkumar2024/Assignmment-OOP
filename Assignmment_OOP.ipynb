{
  "nbformat": 4,
  "nbformat_minor": 0,
  "metadata": {
    "colab": {
      "provenance": [],
      "authorship_tag": "ABX9TyO9vecidSgbts7eoMHVqsSF",
      "include_colab_link": true
    },
    "kernelspec": {
      "name": "python3",
      "display_name": "Python 3"
    },
    "language_info": {
      "name": "python"
    }
  },
  "cells": [
    {
      "cell_type": "markdown",
      "metadata": {
        "id": "view-in-github",
        "colab_type": "text"
      },
      "source": [
        "<a href=\"https://colab.research.google.com/github/anmolkumar2024/Assignmment-OOP/blob/main/Assignmment_OOP.ipynb\" target=\"_parent\"><img src=\"https://colab.research.google.com/assets/colab-badge.svg\" alt=\"Open In Colab\"/></a>"
      ]
    },
    {
      "cell_type": "markdown",
      "source": [
        "# 1. Explain the importance of Functions\n",
        "Functions are one of the most fundamental building blocks in programming. They allow you to organize code into Reusability, Easy to Understand, Easy to Debug and Fix Errors, Saves Time and Effort, Makes Code Organized and Clean,Encourages Teamwork.\n",
        "\n",
        "**1. Reusabiliy** - Reusability means writing code once and using it many times — saving effort, reducing bugs, and keeping programs clean and efficient.\n",
        "\n",
        "**2. Easy to understand**- Something is easy to understand when you can read or see it and quickly know what it means without getting confused or needing much explanation.\n",
        "\n",
        "**3. Easy to Debug and Fix Errro** - you can quickly find where the problem is and solve it without much confusion. This saves time and avoids bigger issues later.\n",
        "\n",
        "**4. Save Time and Effort** - It means you can do your work faster and with less hard work.\n",
        "\n",
        "**5. Makes Code Organized and Clean** - the code is simple, neat, well-structured, and easy for anyone (even you later) to read and work with.\n",
        "\n",
        "**6. Encourages Teamwork** - t means the code is written in a way that makes it easy for many people to work together on the same project without confusion or problems."
      ],
      "metadata": {
        "id": "5PALEWXbpByq"
      }
    },
    {
      "cell_type": "code",
      "source": [
        "# 2. Write a basic function to greet students.\n",
        "\n",
        "def greet_students(name):\n",
        "    print(\"Hello, \" + name + \"! Welcome to my assignment.\")\n",
        "greet_students(\"PW\")\n"
      ],
      "metadata": {
        "colab": {
          "base_uri": "https://localhost:8080/"
        },
        "id": "j_tFSzwsixbW",
        "outputId": "513cde7f-27f1-449f-a931-21d1aff5e142"
      },
      "execution_count": null,
      "outputs": [
        {
          "output_type": "stream",
          "name": "stdout",
          "text": [
            "Hello, PW! Welcome to my assignment.\n"
          ]
        }
      ]
    },
    {
      "cell_type": "markdown",
      "source": [],
      "metadata": {
        "id": "AKEdedv5qdG1"
      }
    },
    {
      "cell_type": "markdown",
      "source": [
        "# 3. What is the difference between print and return statements\n",
        "\n",
        "**print Statement**\n",
        "\n",
        "Purpose: Displays output on the screen (console).\n",
        "\n",
        "Used for: Debugging or showing the result to the user.\n",
        "\n",
        "Does not affect: The flow of the program or allow further use of the output.\n",
        "\n",
        "**return Statement**\n",
        "\n",
        "Purpose: Sends data back from a function to where it was called.\n",
        "\n",
        "Used for: Saving or reusing a result in code.\n",
        "\n",
        "Ends the function: No code after return runs inside the function."
      ],
      "metadata": {
        "id": "i_0_N3AEqfCB"
      }
    },
    {
      "cell_type": "markdown",
      "source": [
        "# 4. What are *args and **kwargs\n",
        " ***args (Non-keyworded variable arguments)**\n",
        "\n",
        "Allows a function to take any number of positional arguments.\n",
        "\n",
        "Inside the function, args is a tuple.\n",
        "\n",
        "****kwargs (Keyworded variable arguments)**\n",
        "\n",
        "Allows a function to take any number of keyword arguments (key=value pairs).\n",
        "\n",
        "Inside the function, kwargs is a dictionary."
      ],
      "metadata": {
        "id": "Iqeamjamri7J"
      }
    },
    {
      "cell_type": "markdown",
      "source": [
        "# 5. Explain the iterator function\n",
        "An iterator is an object that allows you to loop through a sequence of values, like a list, tuple, or string — one item at a time.\n",
        "\n",
        "_ _ _init_ _ _initializes the starting, ending, and step values.\n",
        "\n",
        "_ _ _iter_ _ _ returns the iterator object (required for the iterator protocol).\n",
        "\n",
        "_ _ _next_ _ _ returns the next value and moves the iterator forward. When it reaches the end, it raises StopIteration."
      ],
      "metadata": {
        "id": "bxGqKj0Kth-R"
      }
    },
    {
      "cell_type": "code",
      "source": [
        "class CountUpto:\n",
        "    def __init__(self, max):\n",
        "        self.num = 1\n",
        "        self.max = max\n",
        "\n",
        "    def __iter__(self):\n",
        "        return self\n",
        "\n",
        "    def __next__(self):\n",
        "        if self.num <= self.max:\n",
        "            val = self.num\n",
        "            self.num += 1\n",
        "            return val\n",
        "        else:\n",
        "            raise StopIteration\n",
        "\n",
        "it = CountUpto(3)\n",
        "for i in it:\n",
        "    print(i)\n"
      ],
      "metadata": {
        "colab": {
          "base_uri": "https://localhost:8080/"
        },
        "id": "zmRFlUpbuaX0",
        "outputId": "90e0eafa-be28-479c-a211-505d65ff2dbe"
      },
      "execution_count": null,
      "outputs": [
        {
          "output_type": "stream",
          "name": "stdout",
          "text": [
            "1\n",
            "2\n",
            "3\n"
          ]
        }
      ]
    },
    {
      "cell_type": "code",
      "source": [
        "# 6. Write a code that generates the squares of numbers from 1 to n using a generator.\n",
        "\n",
        "def generate_squares(n):\n",
        "    for i in range(1, n + 1):\n",
        "        yield i ** 2  # generator yields square of i\n",
        "\n",
        "n = int(input(\"Enter a number: \"))\n",
        "for square in generate_squares(n):\n",
        "    print(square)"
      ],
      "metadata": {
        "id": "CKN6UpS0ucKN",
        "colab": {
          "base_uri": "https://localhost:8080/"
        },
        "outputId": "db8edfd1-3445-4154-bc4c-f559887a7ccd"
      },
      "execution_count": null,
      "outputs": [
        {
          "output_type": "stream",
          "name": "stdout",
          "text": [
            "Enter a number: 5\n",
            "1\n",
            "4\n",
            "9\n",
            "16\n",
            "25\n"
          ]
        }
      ]
    },
    {
      "cell_type": "code",
      "source": [
        "# 7. Write a code that generates palindromic numbers up to n using a generator.\n",
        "\n",
        "def generate_palindromes(n):\n",
        "    for i in range(1, n + 1):\n",
        "        if str(i) == str(i)[::-1]:\n",
        "            yield i\n",
        "\n",
        "n = int(input(\"Enter a number: \"))\n",
        "print(f\"Palindromic numbers up to {n} are:\")\n",
        "for num in generate_palindromes(n):\n",
        "    print(num)\n"
      ],
      "metadata": {
        "id": "tuH8w1QnvYrr",
        "colab": {
          "base_uri": "https://localhost:8080/"
        },
        "outputId": "f74db56d-8364-4ca5-eb1e-836d1e701ac3"
      },
      "execution_count": null,
      "outputs": [
        {
          "output_type": "stream",
          "name": "stdout",
          "text": [
            "Enter a number: 5\n",
            "Palindromic numbers up to 5 are:\n",
            "1\n",
            "2\n",
            "3\n",
            "4\n",
            "5\n"
          ]
        }
      ]
    },
    {
      "cell_type": "code",
      "source": [
        "# 8. Write a code that generates even numbers from 2 to n using a generator in python\n",
        "\n",
        "def even_numbers(n):\n",
        "    for i in range(2, n + 1):\n",
        "        if i % 2 == 0:\n",
        "            yield i  # return one even number at a time\n",
        "\n",
        "# Example usage\n",
        "n = int(input(\"Enter a number: \"))\n",
        "print(\"Even numbers from 2 to\", n, \"are:\")\n",
        "for num in even_numbers(n):\n",
        "    print(num)\n"
      ],
      "metadata": {
        "id": "gTDJ8FYOwkDK",
        "colab": {
          "base_uri": "https://localhost:8080/"
        },
        "outputId": "8af6ff04-ccbd-45f5-9316-ed8b6a054436"
      },
      "execution_count": null,
      "outputs": [
        {
          "output_type": "stream",
          "name": "stdout",
          "text": [
            "Enter a number: 5\n",
            "Even numbers from 2 to 5 are:\n",
            "2\n",
            "4\n"
          ]
        }
      ]
    },
    {
      "cell_type": "code",
      "source": [
        "# 9. Write a code that generates powers of two up to n using a generator.\n",
        "\n",
        "def fun(max):\n",
        "    cnt = 1\n",
        "    while cnt <=max:\n",
        "      yield cnt\n",
        "      cnt += 1\n",
        "\n",
        "ctr = fun(5)\n",
        "for n in ctr:\n",
        "  print(n)"
      ],
      "metadata": {
        "id": "pTSME5nxxSpU",
        "colab": {
          "base_uri": "https://localhost:8080/"
        },
        "outputId": "f6fab63e-fbef-4a3b-d974-aa9b4f542c7f"
      },
      "execution_count": null,
      "outputs": [
        {
          "output_type": "stream",
          "name": "stdout",
          "text": [
            "1\n",
            "2\n",
            "3\n",
            "4\n",
            "5\n"
          ]
        }
      ]
    },
    {
      "cell_type": "code",
      "source": [
        "# 10. Write a code that generates prime numbers up to n using a generator.\n",
        "def isPrime(n):\n",
        "    if(n==1 or n==0):\n",
        "        return False\n",
        "    for i in range(2,(n//2)+1):\n",
        "\n",
        "\n",
        "        if(n%i==0):\n",
        "            return False\n",
        "\n",
        "    return True\n",
        "N = 100;\n",
        "for i in range(1,N+1):\n",
        "    if(isPrime(i)):\n",
        "      print(i,end=\" \")\n",
        "\n"
      ],
      "metadata": {
        "id": "7n4FcAtLTJuz",
        "colab": {
          "base_uri": "https://localhost:8080/"
        },
        "outputId": "5dce143b-3526-49d6-e3a5-e1c64ca3c714"
      },
      "execution_count": null,
      "outputs": [
        {
          "output_type": "stream",
          "name": "stdout",
          "text": [
            "2 3 5 7 11 13 17 19 23 29 31 37 41 43 47 53 59 61 67 71 73 79 83 89 97 "
          ]
        }
      ]
    },
    {
      "cell_type": "code",
      "source": [
        "# 11.  Write a code that uses a lambda function to calculate the sum of two numbers.\n",
        "\n",
        "res = lambda a, b: a + b\n",
        "print(res(10, 5))"
      ],
      "metadata": {
        "id": "utCD6ENJUe2S",
        "colab": {
          "base_uri": "https://localhost:8080/"
        },
        "outputId": "1fd9d148-d79c-44a7-a326-85bcf9d05bd5"
      },
      "execution_count": null,
      "outputs": [
        {
          "output_type": "stream",
          "name": "stdout",
          "text": [
            "15\n"
          ]
        }
      ]
    },
    {
      "cell_type": "code",
      "source": [
        "# 12. Write a code that uses a lambda function to calculate the square of a given number.\n",
        "\n",
        "square = lambda x: x ** 2\n",
        "\n",
        "num = 6\n",
        "result = square(num)\n",
        "\n",
        "print(f\"The square of {num} is {result}\")\n"
      ],
      "metadata": {
        "id": "fa5E-iFrZw0r",
        "colab": {
          "base_uri": "https://localhost:8080/"
        },
        "outputId": "e3041f3a-06c2-4722-d489-5f56687af514"
      },
      "execution_count": null,
      "outputs": [
        {
          "output_type": "stream",
          "name": "stdout",
          "text": [
            "The square of 6 is 36\n"
          ]
        }
      ]
    },
    {
      "cell_type": "code",
      "source": [
        " # 13. Write a code that uses a lambda function to check whether a given number is even or odd.\n",
        "\n",
        "check_even_odd = lambda x: \"Even\" if x % 2 == 0 else \"Odd\"\n",
        "\n",
        "# Example usage\n",
        "num = 7\n",
        "result = check_even_odd(num)\n",
        "\n",
        "print(f\"{num} is {result}\")\n"
      ],
      "metadata": {
        "id": "9URD6P2-aO7U",
        "colab": {
          "base_uri": "https://localhost:8080/"
        },
        "outputId": "282d66fd-a5c8-4efc-f474-f97c49f89ae2"
      },
      "execution_count": null,
      "outputs": [
        {
          "output_type": "stream",
          "name": "stdout",
          "text": [
            "7 is Odd\n"
          ]
        }
      ]
    },
    {
      "cell_type": "code",
      "source": [
        "# 15. Write a code that uses a lambda function to concatenate two strings\n",
        "\n",
        "concatenate_strings = lambda str1, str2: str1 + str2\n",
        "\n",
        "string1 = \"Hello, \"\n",
        "string2 = \"world!\"\n",
        "\n",
        "result = concatenate_strings(string1, string2)\n",
        "print(result)"
      ],
      "metadata": {
        "id": "UmVNURRFa_2M",
        "colab": {
          "base_uri": "https://localhost:8080/"
        },
        "outputId": "b44b81bf-46bb-4996-d54f-552a702215d7"
      },
      "execution_count": null,
      "outputs": [
        {
          "output_type": "stream",
          "name": "stdout",
          "text": [
            "Hello, world!\n"
          ]
        }
      ]
    },
    {
      "cell_type": "code",
      "source": [
        "# 16. Write a code that uses a lambda function to find the maximum of three given numbers.\n",
        "\n",
        "find_max_of_three = lambda a, b, c: a if (a >= b and a >= c) else (b if (b >= a and b >= c) else c)\n",
        "\n",
        "num1 = 10\n",
        "num2 = 25\n",
        "num3 = 15\n",
        "\n",
        "maximum_number = find_max_of_three(num1, num2, num3)\n",
        "print(f\"The maximum of {num1}, {num2}, and {num3} is: {maximum_number}\")\n",
        "\n",
        "num4 = 7\n",
        "num5 = 7\n",
        "num6 = 7\n",
        "maximum_number_equal = find_max_of_three(num4, num5, num6)\n",
        "print(f\"The maximum of {num4}, {num5}, and {num6} is: {maximum_number_equal}\")\n",
        "\n",
        "num7 = 50\n",
        "num8 = 20\n",
        "num9 = 80\n",
        "maximum_number_diff = find_max_of_three(num7, num8, num9)\n",
        "print(f\"The maximum of {num7}, {num8}, and {num9} is: {maximum_number_diff}\")"
      ],
      "metadata": {
        "id": "XuocRgt4bAPz",
        "colab": {
          "base_uri": "https://localhost:8080/"
        },
        "outputId": "49f70a4a-5b66-48ef-da6e-cf8ef196021e"
      },
      "execution_count": null,
      "outputs": [
        {
          "output_type": "stream",
          "name": "stdout",
          "text": [
            "The maximum of 10, 25, and 15 is: 25\n",
            "The maximum of 7, 7, and 7 is: 7\n",
            "The maximum of 50, 20, and 80 is: 80\n"
          ]
        }
      ]
    },
    {
      "cell_type": "code",
      "source": [
        "# 17. Write a code that generates the squares of even numbers from a given list\n",
        "\n",
        "numbers = [1, 2, 3, 4, 5, 6, 7, 8, 9, 10]\n",
        "\n",
        "even_squares = [x**2 for x in numbers if x % 2 == 0]\n",
        "print(\"Squares of even numbers:\", even_squares)\n"
      ],
      "metadata": {
        "id": "GKvqCenJbATV",
        "colab": {
          "base_uri": "https://localhost:8080/"
        },
        "outputId": "136a262d-d006-4e6b-e86f-3ea719e7c16d"
      },
      "execution_count": null,
      "outputs": [
        {
          "output_type": "stream",
          "name": "stdout",
          "text": [
            "Squares of even numbers: [4, 16, 36, 64, 100]\n"
          ]
        }
      ]
    },
    {
      "cell_type": "code",
      "source": [
        "# 18. Write a code that calculates the product of positive numbers from a given list\n",
        "\n",
        "numbers = [-3, 4, -1, 2, 0, 5, -6]\n",
        "\n",
        "product = 1\n",
        "for num in numbers:\n",
        "    if num > 0:\n",
        "        product *= num\n",
        "\n",
        "print(\"Product of positive numbers:\", product)\n"
      ],
      "metadata": {
        "id": "2FAdC1U1bAWj",
        "colab": {
          "base_uri": "https://localhost:8080/"
        },
        "outputId": "c06836b8-1d85-42df-8170-9461a73103b5"
      },
      "execution_count": null,
      "outputs": [
        {
          "output_type": "stream",
          "name": "stdout",
          "text": [
            "Product of positive numbers: 40\n"
          ]
        }
      ]
    },
    {
      "cell_type": "code",
      "source": [
        "# 19. Write a code that doubles the values of odd numbers from a given list\n",
        "\n",
        "numbers = [1, 2, 3, 4, 5, 6, 7]\n",
        "\n",
        "doubled_odds = [num * 2 for num in numbers if num % 2 != 0]\n",
        "\n",
        "print(\"Doubled odd numbers:\", doubled_odds)\n"
      ],
      "metadata": {
        "id": "3YyrwygZbAZd",
        "colab": {
          "base_uri": "https://localhost:8080/"
        },
        "outputId": "259e7d98-bd4f-4dc7-ba06-8624fea1591e"
      },
      "execution_count": null,
      "outputs": [
        {
          "output_type": "stream",
          "name": "stdout",
          "text": [
            "Doubled odd numbers: [2, 6, 10, 14]\n"
          ]
        }
      ]
    },
    {
      "cell_type": "code",
      "source": [
        "# 20. Write a code that calculates the sum of cubes of numbers from a given list\n",
        "\n",
        "numbers = [1, 2, 3, 4, 5]\n",
        "\n",
        "sum_of_cubes = sum(num**3 for num in numbers)\n",
        "\n",
        "print(\"Sum of cubes:\", sum_of_cubes)\n"
      ],
      "metadata": {
        "id": "EKOT-r2EeOX2",
        "colab": {
          "base_uri": "https://localhost:8080/"
        },
        "outputId": "4b9b42a2-6e3b-4c95-c979-5bd90f7ee1ec"
      },
      "execution_count": null,
      "outputs": [
        {
          "output_type": "stream",
          "name": "stdout",
          "text": [
            "Sum of cubes: 225\n"
          ]
        }
      ]
    },
    {
      "cell_type": "code",
      "source": [
        "# 21.  Write a code that filters out prime numbers from a given list\n",
        "\n",
        "def is_prime(n):\n",
        "    if n < 2:\n",
        "        return False\n",
        "    for i in range(2, n):\n",
        "        if n % i == 0:\n",
        "            return False\n",
        "    return True\n",
        "\n",
        "numbers = [2, 3, 4, 5, 6, 7, 8, 9, 10]\n",
        "\n",
        "primes = []\n",
        "for num in numbers:\n",
        "    if is_prime(num):\n",
        "        primes.append(num)\n",
        "\n",
        "print(\"Prime numbers:\", primes)\n"
      ],
      "metadata": {
        "id": "0qtay18IeOn7",
        "colab": {
          "base_uri": "https://localhost:8080/"
        },
        "outputId": "308790e3-f759-46f1-91da-0364ba4c26c0"
      },
      "execution_count": null,
      "outputs": [
        {
          "output_type": "stream",
          "name": "stdout",
          "text": [
            "Prime numbers: [2, 3, 5, 7]\n"
          ]
        }
      ]
    },
    {
      "cell_type": "code",
      "source": [
        "# 22.  Write a code that uses a lambda function to calculate the sum of two numbers.\n",
        "\n",
        "add = lambda a, b: a + b\n",
        "\n",
        "num1 = 5\n",
        "num2 = 7\n",
        "result = add(num1, num2)\n",
        "\n",
        "print(\"Sum:\", result)"
      ],
      "metadata": {
        "id": "EBQIVvcFeOyk",
        "colab": {
          "base_uri": "https://localhost:8080/"
        },
        "outputId": "5b86c15c-39cd-4c35-cb55-f3590e14f17d"
      },
      "execution_count": null,
      "outputs": [
        {
          "output_type": "stream",
          "name": "stdout",
          "text": [
            "Sum: 12\n"
          ]
        }
      ]
    },
    {
      "cell_type": "code",
      "source": [
        "# 23. Write a code that uses a lambda function to calculate the square of a given number.\n",
        "\n",
        "square = lambda x: x ** 2\n",
        "\n",
        "num = 6\n",
        "result = square(num)\n",
        "\n",
        "print(\"Square:\", result)\n"
      ],
      "metadata": {
        "id": "9Ftv3sgpf3T2",
        "colab": {
          "base_uri": "https://localhost:8080/"
        },
        "outputId": "b7bac351-c777-41b5-da1c-f040a0797ba0"
      },
      "execution_count": null,
      "outputs": [
        {
          "output_type": "stream",
          "name": "stdout",
          "text": [
            "Square: 36\n"
          ]
        }
      ]
    },
    {
      "cell_type": "code",
      "source": [
        "# 24. Write a code that uses a lambda function to check whether a given number is even or odd\n",
        "\n",
        "check_even_odd = lambda x: \"Even\" if x % 2 == 0 else \"Odd\"\n",
        "\n",
        "num = 7\n",
        "result = check_even_odd(num)\n",
        "\n",
        "print(f\"{num} is {result}\")\n"
      ],
      "metadata": {
        "id": "TP10_bLrgEd9",
        "colab": {
          "base_uri": "https://localhost:8080/"
        },
        "outputId": "099e16a3-d04f-4d6c-a6a9-f5762d59ab35"
      },
      "execution_count": null,
      "outputs": [
        {
          "output_type": "stream",
          "name": "stdout",
          "text": [
            "7 is Odd\n"
          ]
        }
      ]
    },
    {
      "cell_type": "code",
      "source": [
        "# 25. Write a code that uses a lambda function to concatenate two strings\n",
        "\n",
        "concat = lambda a, b: a + b\n",
        "\n",
        "str1 = \"Hello \"\n",
        "str2 = \"World\"\n",
        "result = concat(str1, str2)\n",
        "\n",
        "print(\"Concatenated String:\", result)\n"
      ],
      "metadata": {
        "id": "gZhAVwoRgO-X",
        "colab": {
          "base_uri": "https://localhost:8080/"
        },
        "outputId": "db836b90-ca92-4c7d-b0df-c40895c261fb"
      },
      "execution_count": null,
      "outputs": [
        {
          "output_type": "stream",
          "name": "stdout",
          "text": [
            "Concatenated String: Hello World\n"
          ]
        }
      ]
    },
    {
      "cell_type": "code",
      "source": [
        "# 26. Write a code that uses a lambda function to find the maximum of three given numbers.\n",
        "\n",
        "maximum = lambda a, b, c: a if (a >= b and a >= c) else (b if b >= c else c)\n",
        "\n",
        "num1 = 15\n",
        "num2 = 25\n",
        "num3 = 20\n",
        "result = maximum(num1, num2, num3)\n",
        "\n",
        "print(\"Maximum number:\", result)\n"
      ],
      "metadata": {
        "id": "HoquE1D0gboL",
        "colab": {
          "base_uri": "https://localhost:8080/"
        },
        "outputId": "b251ecd2-2395-468c-e352-d734a00c6980"
      },
      "execution_count": null,
      "outputs": [
        {
          "output_type": "stream",
          "name": "stdout",
          "text": [
            "Maximum number: 25\n"
          ]
        }
      ]
    },
    {
      "cell_type": "markdown",
      "source": [
        "# 27. What is encapsulation in OOP?\n",
        "Encapsulation means hiding internal details of a class and only exposing what’s necessary. or encapsulation is an object-oriented programming principle where data (variables) and methods (functions) are bundled together in a class.\n",
        "\n",
        "Key Points\n",
        "\n",
        "Protects the internal state of an object.\n",
        "\n",
        "Uses access modifiers (like private, protected, public) to control access.\n",
        "\n",
        "Achieves data hiding and controlled modification through getters and setters."
      ],
      "metadata": {
        "id": "xXY9wVBCg9CM"
      }
    },
    {
      "cell_type": "markdown",
      "source": [
        "# 28. Explain the use of access modifiers in Python classes.\n",
        "  \n",
        "In Python, access modifiers are used to control how the members (attributes and methods) of a class can be accessed from outside the class. They help in implementing the principle of encapsulation (hiding internal details and exposing only what is necessary).\n",
        "\n",
        "Unlike some other languages (like Java or C++), Python doesn’t have strict access modifiers (public, private, protected). Instead, it follows naming conventions and relies on developer discipline.\n",
        "\n",
        "Types of Access Modifiers in Python\n",
        "1. Public Members , 2. Protected Members , 3. Private Members"
      ],
      "metadata": {
        "id": "81-WH29YVtcR"
      }
    },
    {
      "cell_type": "markdown",
      "source": [
        "# 29. What is inheritance in OOP\n",
        "A class can get (inherit) properties and behaviors of another class.\n",
        "The class that gives its features is called the parent class (base class).\n",
        "The class that receives them is called the child class (derived class).\n",
        "\n",
        "This way, you don’t have to rewrite the same code again and again — the child class automatically gets what the parent has, and it can also add its own."
      ],
      "metadata": {
        "id": "pzYx5r71W8Xv"
      }
    },
    {
      "cell_type": "markdown",
      "source": [
        "# 30.Define polymorphism in OOP\n",
        "Polymorphism in OOP is the concept of \"many forms,\" allowing a single entity (like a variable, function, or object) to behave in different ways depending on its context or type.\n"
      ],
      "metadata": {
        "id": "Lgbe47-fZKGH"
      }
    },
    {
      "cell_type": "markdown",
      "source": [
        "# 31. Explain method overriding in Python.\n",
        "\n",
        "Method overriding is an ability of any object-oriented programming language that allows a subclass or child class to provide a specific implementation of a method that is already provided by one of its super-classes or parent classes. When a method in a subclass has the same name, the same parameters or signature, and same return type(or sub-type) as a method in its super-class, then the method in the subclass is said to override the method in the super-class.\n"
      ],
      "metadata": {
        "id": "3K6ioeCKaY3f"
      }
    },
    {
      "cell_type": "code",
      "source": [
        "# 32.  Define a parent class Animal with a method make_sound that prints \"Generic animal sound\".\n",
        "#      Create a child class Dog inheriting from Animal with a method make_sound that prints \"Woof!\n",
        "\n",
        "# Parent class\n",
        "class Animal:\n",
        "    def make_sound(self):\n",
        "        print(\"Generic animal sound\")\n",
        "\n",
        "# Child class\n",
        "class Dog(Animal):\n",
        "    # Overriding the parent method\n",
        "    def make_sound(self):\n",
        "        print(\"Woof!\")\n",
        "\n",
        "# Testing\n",
        "a = Animal()\n",
        "a.make_sound()\n",
        "\n",
        "d = Dog()\n",
        "d.make_sound()\n",
        "\n"
      ],
      "metadata": {
        "colab": {
          "base_uri": "https://localhost:8080/"
        },
        "id": "61gIhEWNcVhN",
        "outputId": "31b6912c-1ff2-4f02-9efd-c032f698343f"
      },
      "execution_count": null,
      "outputs": [
        {
          "output_type": "stream",
          "name": "stdout",
          "text": [
            "Generic animal sound\n",
            "Woof!\n"
          ]
        }
      ]
    },
    {
      "cell_type": "code",
      "source": [
        "# 33. Create a class Mammal with a method reproduce that prints \"Giving birth to live young.\" Create a class\n",
        "#      DogMammal inheriting from both Dog and Mammal\n",
        "\n",
        "# Parent class\n",
        "class Animal:\n",
        "    def move(self):\n",
        "        print(\"Animal moves\")\n",
        "\n",
        "# Child class\n",
        "class Dog(Animal):\n",
        "    # Overriding the parent method\n",
        "    def move(self):\n",
        "        print(\"Dog runs\")\n",
        "\n",
        "# Testing\n",
        "a = Animal()\n",
        "a.move()\n",
        "\n",
        "d = Dog()\n",
        "d.move()\n"
      ],
      "metadata": {
        "colab": {
          "base_uri": "https://localhost:8080/"
        },
        "id": "W909xDGidNHO",
        "outputId": "81175980-e5e9-412d-af02-6912be505052"
      },
      "execution_count": null,
      "outputs": [
        {
          "output_type": "stream",
          "name": "stdout",
          "text": [
            "Animal moves\n",
            "Dog runs\n"
          ]
        }
      ]
    },
    {
      "cell_type": "code",
      "source": [
        "# 35. Create a class GermanShepherd inheriting from Dog and override the make_sound method to print\"Bark!\n",
        "\n",
        "# Parent class\n",
        "class Animal:\n",
        "    def make_sound(self):\n",
        "        print(\"Generic animal sound\")\n",
        "\n",
        "# Child class\n",
        "class Dog(Animal):\n",
        "    def make_sound(self):\n",
        "        print(\"Woof!\")\n",
        "\n",
        "# Grandchild class\n",
        "class GermanShepherd(Dog):\n",
        "    # Overriding Dog's method\n",
        "    def make_sound(self):\n",
        "        print(\"Bark!\")\n",
        "\n",
        "# Testing\n",
        "a = Animal()\n",
        "a.make_sound()\n",
        "\n",
        "d = Dog()\n",
        "d.make_sound()\n",
        "\n",
        "gs = GermanShepherd()\n",
        "gs.make_sound()\n"
      ],
      "metadata": {
        "colab": {
          "base_uri": "https://localhost:8080/"
        },
        "id": "RXXwA5KzdgFO",
        "outputId": "32b0f5cb-5521-4448-fab6-7c408f802f28"
      },
      "execution_count": null,
      "outputs": [
        {
          "output_type": "stream",
          "name": "stdout",
          "text": [
            "Generic animal sound\n",
            "Woof!\n",
            "Bark!\n"
          ]
        }
      ]
    },
    {
      "cell_type": "code",
      "source": [
        "# 36. Define constructors in both the Animal and Dog classes with different initialization parameters.\n",
        "\n",
        "class Animal:\n",
        "    def __init__(self, species):\n",
        "        self.species = species\n",
        "\n",
        "class Dog(Animal):\n",
        "    def __init__(self, species, breed):\n",
        "        super().__init__(species)   # call Animal constructor\n",
        "        self.breed = breed\n",
        "\n",
        "\n",
        "# Example\n",
        "a = Animal(\"Mammal\")\n",
        "print(\"Animal:\", a.species)\n",
        "\n",
        "d = Dog(\"Mammal\", \"German Shepherd\")\n",
        "print(\"Dog:\", d.species, d.breed)\n"
      ],
      "metadata": {
        "colab": {
          "base_uri": "https://localhost:8080/"
        },
        "id": "icdTM-QB0hzI",
        "outputId": "16273861-aa01-4176-82af-9d972b6098fa"
      },
      "execution_count": null,
      "outputs": [
        {
          "output_type": "stream",
          "name": "stdout",
          "text": [
            "Animal: Mammal\n",
            "Dog: Mammal German Shepherd\n"
          ]
        }
      ]
    },
    {
      "cell_type": "markdown",
      "source": [
        "# 38. What is abstraction in Python? How is it implemented\n",
        "\n",
        "Abstraction means hiding implementation details and showing only the necessary features of an object.\n",
        "\n",
        "Example in real life: When you drive a car, you use the steering wheel, brake, and accelerator — but\n",
        "\n",
        "you don’t need to know how the engine works internally.\n",
        "In Python, abstraction is achieved using the abc (Abstract Base Class) module\n",
        "\n",
        "How to Implement Abstraction in Python\n",
        "\n",
        "*Import ABC and abstractmethod from abc.\n",
        "\n",
        "*Create an abstract class (a class that cannot be instantiated).\n",
        "\n",
        "*Define abstract methods (methods with no implementation in the parent).\n",
        "\n",
        "*Subclasses must override these abstract methods."
      ],
      "metadata": {
        "id": "EFh9mTw82IXy"
      }
    },
    {
      "cell_type": "markdown",
      "source": [
        "# 39. How are abstract methods different from regular methods in Python\n",
        "Abstract Methods\n",
        "\n",
        "* Declared in an abstract class using @abstractmethod.\n",
        "\n",
        "* Do not have implementation in the abstract class.\n",
        "\n",
        "* Must be overridden in child classes, otherwise error occurs.\n",
        "\n",
        "* Abstract class cannot be instantiated directly.\n",
        "\n",
        "Regular Methods\n",
        "\n",
        "* Have both declaration and implementation.\n",
        "\n",
        "* Subclasses may use them as-is or override them.\n",
        "\n",
        "* They are optional to override."
      ],
      "metadata": {
        "id": "KtEbb_lw3N4n"
      }
    },
    {
      "cell_type": "markdown",
      "source": [
        " # 40. How can you achieve abstraction using interfaces in Python.\n",
        "\n",
        " An interface is like a contract → it only defines what methods a class must have, but not how they work.\n",
        "\n",
        "* In Python, you can achieve this by:\n",
        "\n",
        "* Creating an abstract class with only abstract methods.\n",
        "\n",
        "* Forcing subclasses to implement those methods.\n"
      ],
      "metadata": {
        "id": "aniIpFaI38Ca"
      }
    },
    {
      "cell_type": "markdown",
      "source": [
        "#41. Can you provide an example of how abstraction can be utilized to create a common interface for a group of related classes in Python.\n",
        "\n",
        "Let’s say we want to create a common interface for different payment methods like CreditCard, PayPal, and UPI.\n",
        "\n",
        "We don’t want the user to worry about how each payment is processed, only that they can call a common method pay(amount).\n"
      ],
      "metadata": {
        "id": "D4fRosQ74cSL"
      }
    },
    {
      "cell_type": "markdown",
      "source": [
        "#42. How does Python achieve polymorphism through method overriding\n",
        "\n",
        "* Polymorphism\n",
        "\n",
        "Polymorphism means one name, many forms → the same method name can behave differently based on the object calling it.\n",
        "\n",
        "In Python, we achieve runtime polymorphism using method overriding.\n",
        "\n",
        "* Method Overriding\n",
        "\n",
        "A child class provides a new implementation of a method that already exists in the parent class.\n",
        "\n",
        "When we call the method using a child object, the child’s version is executed (instead of the parent’s)."
      ],
      "metadata": {
        "id": "2zsGajQb5W30"
      }
    },
    {
      "cell_type": "markdown",
      "source": [
        "# 43. Define a base class with a method and a subclass that overrides the method\n",
        "\n"
      ],
      "metadata": {
        "id": "fyC1DAt75qRf"
      }
    },
    {
      "cell_type": "code",
      "source": [
        "# Base class\n",
        "class Animal:\n",
        "    def sound(self):\n",
        "        print(\"Generic animal sound\")\n",
        "\n",
        "# Subclass overriding the method\n",
        "class Dog(Animal):\n",
        "    def sound(self):\n",
        "        print(\"Woof!\")\n",
        "\n",
        "# Usage\n",
        "a = Animal()\n",
        "a.sound()   # Parent method\n",
        "\n",
        "d = Dog()\n",
        "d.sound()   # Overridden method\n"
      ],
      "metadata": {
        "colab": {
          "base_uri": "https://localhost:8080/"
        },
        "id": "txs1Yb8b50hk",
        "outputId": "64be2d64-499d-45e0-bf75-b364f50458cb"
      },
      "execution_count": null,
      "outputs": [
        {
          "output_type": "stream",
          "name": "stdout",
          "text": [
            "Generic animal sound\n",
            "Woof!\n"
          ]
        }
      ]
    },
    {
      "cell_type": "code",
      "source": [
        "# 44. Define a base class and multiple subclasses with overridden methods\n",
        "\n",
        "# Base class\n",
        "class Animal:\n",
        "    def sound(self):\n",
        "        print(\"Some generic animal sound\")\n",
        "\n",
        "# Subclass 1\n",
        "class Dog(Animal):\n",
        "    def sound(self):\n",
        "        print(\"Woof!\")\n",
        "\n",
        "# Subclass 2\n",
        "class Cat(Animal):\n",
        "    def sound(self):\n",
        "        print(\"Meow!\")\n",
        "\n",
        "# Subclass 3\n",
        "class Cow(Animal):\n",
        "    def sound(self):\n",
        "        print(\"Moo!\")\n",
        "\n",
        "# Usage\n",
        "animals = [Dog(), Cat(), Cow()]\n",
        "\n",
        "for a in animals:\n",
        "    a.sound()\n"
      ],
      "metadata": {
        "colab": {
          "base_uri": "https://localhost:8080/"
        },
        "id": "-0v8p7tl514H",
        "outputId": "f46d9704-5028-496f-975c-37fb0d261454"
      },
      "execution_count": null,
      "outputs": [
        {
          "output_type": "stream",
          "name": "stdout",
          "text": [
            "Woof!\n",
            "Meow!\n",
            "Moo!\n"
          ]
        }
      ]
    },
    {
      "cell_type": "markdown",
      "source": [
        "# 45. How does polymorphism improve code readability and reusability\n",
        "\n",
        "* How it Improves Code Readability\n",
        "\n",
        "Cleaner code → You don’t need multiple if-else statements to check the object type.\n",
        "\n",
        "Unified interface → You just call the same method name (sound(), area(), draw()) without caring which class it belongs to.\n",
        "\n",
        "Easier to understand → Code reads more like natural language."
      ],
      "metadata": {
        "id": "_NSo4jNg66ny"
      }
    },
    {
      "cell_type": "markdown",
      "source": [
        "# 46. Describe how Python supports polymorphism with duck typing\n",
        "\n",
        "Duck Typing in Python\n",
        "\n",
        "* Python is a dynamically typed language.\n",
        "\n",
        "* Duck typing means: “If it looks like a duck, swims like a duck, and quacks like a duck, then it is a duck.”\n",
        "\n",
        "* In other words, the type of the object doesn’t matter; what matters is whether it has the required method/behavior.\n",
        "\n",
        "* So, polymorphism in Python is often achieved by duck typing."
      ],
      "metadata": {
        "id": "dVjSuSjj7Nbf"
      }
    },
    {
      "cell_type": "markdown",
      "source": [
        "# 47. How do you achieve encapsulation in Python.\n",
        "\n",
        "Python doesn’t have strict access modifiers like private, protected, public in Java/C++.\n",
        "But it follows naming conventions and name mangling:\n",
        "\n",
        "1. Public members\n",
        "\n",
        "* Default in Python.\n",
        "\n",
        "* Accessible from anywhere.\n",
        "\n",
        "2. Protected members (convention: prefix _)\n",
        "\n",
        "* Should not be accessed directly outside the class (but still possible).\n",
        "\n",
        "3. Private members (prefix __)\n",
        "\n",
        "* Python performs name mangling → internally changes __brand to _Car__brand.\n",
        "\n",
        "* Prevents accidental modification."
      ],
      "metadata": {
        "id": "9xJSbRqg7pcy"
      }
    },
    {
      "cell_type": "markdown",
      "source": [
        "# 48. Can encapsulation be bypassed in Python? If so, how\n",
        "\n",
        "1. Protected Members (_variable)\n",
        "\n",
        "* By convention, variables starting with _ should not be accessed outside the class.\n",
        "\n",
        "* But Python does not restrict it — you can still access them.\n",
        "\n",
        "2. rivate Members (__variable) and Name Mangling\n",
        "\n",
        "* Variables with __ are internally renamed to _ClassName__variable.\n",
        "\n",
        "* This prevents accidental access but can be bypassed intentionally.\n",
        "\n",
        "3. Using __ dict __\n",
        "\n",
        "* Python stores object attributes in a dictionary.\n",
        "\n",
        "* We can directly access or modify private variables through it."
      ],
      "metadata": {
        "id": "cTH0wm3889n9"
      }
    },
    {
      "cell_type": "markdown",
      "source": [
        "# 49. Implement a class BankAccount with a private balance attribute. Include methods to deposit, withdraw,and check the balance\n",
        "\n"
      ],
      "metadata": {
        "id": "Enhdplp89nvs"
      }
    },
    {
      "cell_type": "code",
      "source": [
        "class BankAccount:\n",
        "    def __init__(self, balance=0):\n",
        "        self.__balance = balance   # private\n",
        "\n",
        "    def deposit(self, amount):\n",
        "        self.__balance += amount\n",
        "\n",
        "    def withdraw(self, amount):\n",
        "        if amount <= self.__balance:\n",
        "            self.__balance -= amount\n",
        "        else:\n",
        "            print(\"Not enough balance\")\n",
        "\n",
        "    def get_balance(self):\n",
        "        return self.__balance\n",
        "\n",
        "\n",
        "# Usage\n",
        "account = BankAccount(1000)\n",
        "print(\"Balance:\", account.get_balance())\n",
        "\n",
        "account.deposit(500)\n",
        "print(\"Balance:\", account.get_balance())\n",
        "\n",
        "account.withdraw(300)\n",
        "print(\"Balance:\", account.get_balance())\n"
      ],
      "metadata": {
        "colab": {
          "base_uri": "https://localhost:8080/"
        },
        "id": "ad5AXYTc-EVc",
        "outputId": "155d630f-92f1-4ddc-ae0f-bb81aa6b030c"
      },
      "execution_count": null,
      "outputs": [
        {
          "output_type": "stream",
          "name": "stdout",
          "text": [
            "Balance: 1000\n",
            "Balance: 1500\n",
            "Balance: 1200\n"
          ]
        }
      ]
    },
    {
      "cell_type": "markdown",
      "source": [
        "# 50. Develop a Person class with private attributes name and email, and methods to set and get the email.\n"
      ],
      "metadata": {
        "id": "2XofjArt-cS_"
      }
    },
    {
      "cell_type": "code",
      "source": [
        "class Person:\n",
        "    def __init__(self, name, email):\n",
        "        self.__name = name      # private attribute\n",
        "        self.__email = email    # private attribute\n",
        "\n",
        "    # Getter for email\n",
        "    def get_email(self):\n",
        "        return self.__email\n",
        "\n",
        "    # Setter for email\n",
        "    def set_email(self, new_email):\n",
        "        self.__email = new_email\n",
        "\n",
        "\n",
        "# Usage\n",
        "p = Person(\"Anmol\", \"anmol@example.com\")\n",
        "\n",
        "print(\"Email:\", p.get_email())\n",
        "\n",
        "p.set_email(\"anmolkumar66555@email.com\")\n",
        "print(\"Updated Email:\", p.get_email())\n"
      ],
      "metadata": {
        "colab": {
          "base_uri": "https://localhost:8080/"
        },
        "id": "Uu69TPjB-OEB",
        "outputId": "28981615-c892-47cc-ae2a-8b74c5f7fc47"
      },
      "execution_count": 1,
      "outputs": [
        {
          "output_type": "stream",
          "name": "stdout",
          "text": [
            "Email: anmol@example.com\n",
            "Updated Email: anmolkumar66555@email.com\n"
          ]
        }
      ]
    },
    {
      "cell_type": "markdown",
      "source": [
        "# 51. Why is encapsulation considered a pillar of object-oriented programming(OOP)\n",
        "\n",
        "* Encapsulation in OOP\n",
        "\n",
        "Encapsulation means wrapping data (attributes) and methods (functions) into a single unit (class) and controlling access to that data.\n",
        "It’s one of the four pillars of OOP:\n",
        "\n",
        "1. Encapsulation\n",
        "\n",
        "2. Abstraction\n",
        "\n",
        "3. Inheritance\n",
        "\n",
        "4. Polymorphism\n",
        "\n",
        "Encapsulation is Important (Pillar of OOP)\n",
        "1. Data Hiding (Security)\n",
        "\n",
        "* Protects sensitive data from being accessed or modified directly.\n",
        "\n",
        "* Encapsulation prevents this by making attributes private.\n",
        "\n",
        "2. Controlled Access\n",
        "\n",
        "* Provides getters and setters to control how data is read or modified.\n",
        "\n",
        "* You can add validation in setters (e.g., reject negative deposits).\n",
        "\n",
        "3. Improved Maintainability\n",
        "\n",
        "* Internal details of a class can be changed without affecting external code.\n",
        "\n",
        "* As long as the interface (deposit(), withdraw(), get_balance()) stays the same, other parts of the program don’t break.\n",
        "\n",
        "4. Reusability & Modularity\n",
        "\n",
        "* Classes with encapsulated data are self-contained modules.\n",
        "\n",
        "* They can be reused in other projects easily.\n",
        "\n",
        "5. Increased Flexibility\n",
        "\n",
        "* You can decide which data should be public, protected, or private.\n",
        "\n",
        "* Example: name can be public, but password should be private."
      ],
      "metadata": {
        "id": "-oGEP6A4_nm_"
      }
    },
    {
      "cell_type": "code",
      "source": [
        "# 52. Create a decorator in Python that adds functionality to a simple function by printing a message before\n",
        "#     and after the function execution.\n",
        "\n",
        "def my_decorator(func):\n",
        "    def wrapper():\n",
        "        print(\"Before the function\")\n",
        "        func()\n",
        "        print(\"After the function\")\n",
        "    return wrapper\n",
        "\n",
        "@my_decorator\n",
        "def my_function():\n",
        "    print(\"Inside the function\")\n",
        "\n",
        "my_function()\n"
      ],
      "metadata": {
        "id": "Kng6menVAbz9",
        "colab": {
          "base_uri": "https://localhost:8080/"
        },
        "outputId": "5633568b-eb6a-409b-badf-1d21b5e72902"
      },
      "execution_count": 2,
      "outputs": [
        {
          "output_type": "stream",
          "name": "stdout",
          "text": [
            "Before the function\n",
            "Inside the function\n",
            "After the function\n"
          ]
        }
      ]
    },
    {
      "cell_type": "code",
      "source": [
        "# 53.  Modify the decorator to accept arguments and print the function name along with the message.\n",
        "\n",
        "def my_decorator(msg):\n",
        "    def inner(func):\n",
        "        def wrapper(*args, **kwargs):\n",
        "            print(f\"{msg} - {func.__name__}\")\n",
        "            return func(*args, **kwargs)\n",
        "        return wrapper\n",
        "    return inner\n",
        "\n",
        "\n",
        "@my_decorator(\"Running\")\n",
        "def hello():\n",
        "    print(\"Hello pw\")\n",
        "\n",
        "hello()"
      ],
      "metadata": {
        "colab": {
          "base_uri": "https://localhost:8080/"
        },
        "id": "2AARxyDcQoZf",
        "outputId": "d9ce75a7-b193-4fb1-b3a0-182d0adfe388"
      },
      "execution_count": 6,
      "outputs": [
        {
          "output_type": "stream",
          "name": "stdout",
          "text": [
            "Running - hello\n",
            "Hello pw\n"
          ]
        }
      ]
    },
    {
      "cell_type": "code",
      "source": [
        "# 54. Create two decorators, and apply them to a single function. Ensure that they execute in the order they are applied.\n",
        "\n",
        "def decorator_one(func):\n",
        "    def wrapper(*args, **kwargs):\n",
        "        print(\"Decorator ONE start\")\n",
        "        result = func(*args, **kwargs)\n",
        "        print(\"Decorator ONE end\")\n",
        "        return result\n",
        "    return wrapper\n",
        "\n",
        "\n",
        "def decorator_two(func):\n",
        "    def wrapper(*args, **kwargs):\n",
        "        print(\"Decorator TWO start\")\n",
        "        result = func(*args, **kwargs)\n",
        "        print(\"Decorator TWO end\")\n",
        "        return result\n",
        "    return wrapper\n",
        "\n",
        "\n",
        "@decorator_one\n",
        "@decorator_two\n",
        "def greet(name):\n",
        "    print(f\"Hello, {name}!\")\n",
        "\n",
        "\n",
        "greet(\"Anmol\")\n",
        "\n",
        "\n"
      ],
      "metadata": {
        "colab": {
          "base_uri": "https://localhost:8080/"
        },
        "id": "Jb6Uq7geRKIL",
        "outputId": "052ca60a-c264-49ff-d5e8-835950d2d6b2"
      },
      "execution_count": 7,
      "outputs": [
        {
          "output_type": "stream",
          "name": "stdout",
          "text": [
            "Decorator ONE start\n",
            "Decorator TWO start\n",
            "Hello, Anmol!\n",
            "Decorator TWO end\n",
            "Decorator ONE end\n"
          ]
        }
      ]
    },
    {
      "cell_type": "code",
      "source": [
        "# 55. Modify the decorator to accept and pass function arguments to the wrapped function.\n",
        "\n",
        "def my_decorator(func):\n",
        "    def wrapper(*args, **kwargs):\n",
        "        print(\"Function start...\")\n",
        "        result = func(*args, **kwargs)\n",
        "        print(\"Function end.\")\n",
        "        return result\n",
        "    return wrapper\n",
        "\n",
        "@my_decorator\n",
        "def add(a, b):\n",
        "    print(f\"Adding {a} + {b}\")\n",
        "    return a + b\n",
        "\n",
        "# Example call\n",
        "print(add(2, 3))\n"
      ],
      "metadata": {
        "colab": {
          "base_uri": "https://localhost:8080/"
        },
        "id": "AHjz_1XdR08x",
        "outputId": "cb824860-adc3-4830-982f-793e61d0801f"
      },
      "execution_count": 10,
      "outputs": [
        {
          "output_type": "stream",
          "name": "stdout",
          "text": [
            "Function start...\n",
            "Adding 2 + 3\n",
            "Function end.\n",
            "5\n"
          ]
        }
      ]
    },
    {
      "cell_type": "code",
      "source": [
        "# 56.  Create a decorator that preserves the metadata of the original function.\n",
        "\n",
        "from functools import wraps\n",
        "\n",
        "def my_decorator(func):\n",
        "    @wraps(func)\n",
        "    def wrapper(*args, **kwargs):\n",
        "        print(\"Before function\")\n",
        "        result = func(*args, **kwargs)\n",
        "        print(\"After function\")\n",
        "        return result\n",
        "    return wrapper\n",
        "\n",
        "@my_decorator\n",
        "def hello(name):\n",
        "    \"\"\"This function says hello to a person.\"\"\"\n",
        "    print(f\"Hello {name}\")\n",
        "\n",
        "# Example\n",
        "hello(\"Anmol\")\n",
        "\n",
        "print(hello.__name__)\n",
        "print(hello.__doc__)\n"
      ],
      "metadata": {
        "colab": {
          "base_uri": "https://localhost:8080/"
        },
        "id": "DnI9imVaSdac",
        "outputId": "938c3cfe-e20f-4095-d96e-ca4fbf76e8cb"
      },
      "execution_count": 11,
      "outputs": [
        {
          "output_type": "stream",
          "name": "stdout",
          "text": [
            "Before function\n",
            "Hello Anmol\n",
            "After function\n",
            "hello\n",
            "This function says hello to a person.\n"
          ]
        }
      ]
    },
    {
      "cell_type": "code",
      "source": [
        "# 57. Create a Python class `Calculator` with a static method `add` that takes in two numbers and returns their sum.\n",
        "\n",
        "class Calculator:\n",
        "    @staticmethod\n",
        "    def add(a, b):\n",
        "        return a + b\n",
        "\n",
        "\n",
        "# Example use\n",
        "result = Calculator.add(5, 3)\n",
        "print(\"Sum:\", result)\n",
        "\n"
      ],
      "metadata": {
        "colab": {
          "base_uri": "https://localhost:8080/"
        },
        "id": "H2uIz1evTL48",
        "outputId": "3f578996-f1e3-442c-d3d5-c81933631396"
      },
      "execution_count": 12,
      "outputs": [
        {
          "output_type": "stream",
          "name": "stdout",
          "text": [
            "Sum: 8\n"
          ]
        }
      ]
    },
    {
      "cell_type": "code",
      "source": [
        "# 58. Create a Python class `Employee` with a class `method get_employee_count` that returns the total\n",
        "#      number of employees created.\n",
        "\n",
        "class Employee:\n",
        "    employee_count = 0\n",
        "\n",
        "    def __init__(self, name):\n",
        "        self.name = name\n",
        "        Employee.employee_count += 1\n",
        "\n",
        "    @classmethod\n",
        "    def get_employee_count(cls):\n",
        "        return cls.employee_count\n",
        "\n",
        "\n",
        "# Example\n",
        "e1 = Employee(\"Anmol\")\n",
        "e2 = Employee(\"Sonu\")\n",
        "e3 = Employee(\"Rahul\")\n",
        "\n",
        "print(\"Total Employees:\", Employee.get_employee_count())\n"
      ],
      "metadata": {
        "colab": {
          "base_uri": "https://localhost:8080/"
        },
        "id": "qWSQvQw6Tqqg",
        "outputId": "26298e95-1bfa-480f-d7a6-c7520d010f23"
      },
      "execution_count": 14,
      "outputs": [
        {
          "output_type": "stream",
          "name": "stdout",
          "text": [
            "Total Employees: 3\n"
          ]
        }
      ]
    },
    {
      "cell_type": "code",
      "source": [
        "# 59. Create a Python class `StringFormatter` with a static method `reverse_string` that takes a string as input\n",
        "#     and returns its reverse.\n",
        "\n",
        "class StringFormatter:\n",
        "    @staticmethod\n",
        "    def reverse_string(text):\n",
        "        return text[::-1]   # slicing se reverse\n",
        "\n",
        "# Example\n",
        "print(StringFormatter.reverse_string(\"physics wallah\"))\n"
      ],
      "metadata": {
        "colab": {
          "base_uri": "https://localhost:8080/"
        },
        "id": "0a7c2kvjTxme",
        "outputId": "21f30869-abe0-44a5-fbd0-6abfdd8c6611"
      },
      "execution_count": 17,
      "outputs": [
        {
          "output_type": "stream",
          "name": "stdout",
          "text": [
            "hallaw scisyhp\n"
          ]
        }
      ]
    },
    {
      "cell_type": "code",
      "source": [
        "# 60. Create a Python class `Circle` with a class method `calculate_area` that calculates the area of a circle\n",
        "#     given its radius\n",
        "\n",
        "import math\n",
        "\n",
        "class Circle:\n",
        "    @classmethod\n",
        "    def calculate_area(cls, radius):\n",
        "        return math.pi * radius * radius\n",
        "\n",
        "# Example\n",
        "print(\"Area of circle with radius 5:\", Circle.calculate_area(5))\n"
      ],
      "metadata": {
        "colab": {
          "base_uri": "https://localhost:8080/"
        },
        "id": "p_ES9IW8U7lK",
        "outputId": "244133c1-8fea-4773-fbb0-6e8f7a6992f4"
      },
      "execution_count": 20,
      "outputs": [
        {
          "output_type": "stream",
          "name": "stdout",
          "text": [
            "Area of circle with radius 5: 78.53981633974483\n"
          ]
        }
      ]
    },
    {
      "cell_type": "code",
      "source": [
        "# 61. Create a Python class `TemperatureConverter` with a static method `celsius_to_fahrenheit` that converts\n",
        "#     Celsius to Fahrenheit.\n",
        "\n",
        "class TemperatureConverter:\n",
        "    @staticmethod\n",
        "    def celsius_to_fahrenheit(celsius):\n",
        "        return (celsius * 9/5) + 32\n",
        "\n",
        "\n",
        "# Example\n",
        "print(TemperatureConverter.celsius_to_fahrenheit(0))\n",
        "print(TemperatureConverter.celsius_to_fahrenheit(25))\n",
        "print(TemperatureConverter.celsius_to_fahrenheit(100))\n"
      ],
      "metadata": {
        "colab": {
          "base_uri": "https://localhost:8080/"
        },
        "id": "Zb7H0S7mUIxn",
        "outputId": "2f85914f-dffa-4b45-a633-cd0f92d9674a"
      },
      "execution_count": 19,
      "outputs": [
        {
          "output_type": "stream",
          "name": "stdout",
          "text": [
            "32.0\n",
            "77.0\n",
            "212.0\n"
          ]
        }
      ]
    },
    {
      "cell_type": "markdown",
      "source": [
        "# 62. What is the purpose of the __str__() method in Python classes? Provide an example.\n",
        "The __str__() method in Python is used to return a human-readable string representation of an object\n",
        "It is called when you use print(object) or str(object).\n",
        "\n",
        "Without it, Python shows a default representation like <__main__.ClassName object at 0x000...>"
      ],
      "metadata": {
        "id": "KrHMgcMMgspO"
      }
    },
    {
      "cell_type": "code",
      "source": [
        "\n",
        "class Employee:\n",
        "    def __init__(self, name, role):\n",
        "        self.name = name\n",
        "        self.role = role\n",
        "\n",
        "    def __str__(self):\n",
        "        return f\"Employee(Name: {self.name}, Role: {self.role})\"\n",
        "\n",
        "\n",
        "# Example usage\n",
        "emp1 = Employee(\"Anmol\", \"Data Analyst\")\n",
        "print(emp1)           # calls __str__()\n",
        "print(str(emp1))      # also calls __str__()\n"
      ],
      "metadata": {
        "colab": {
          "base_uri": "https://localhost:8080/"
        },
        "id": "_OlOflULUp3d",
        "outputId": "640a17d1-fa8a-4b8b-c1fd-b6b32d7cc469"
      },
      "execution_count": 23,
      "outputs": [
        {
          "output_type": "stream",
          "name": "stdout",
          "text": [
            "Employee(Name: Anmol, Role: Data Analyst)\n",
            "Employee(Name: Anmol, Role: Data Analyst)\n"
          ]
        }
      ]
    },
    {
      "cell_type": "code",
      "source": [],
      "metadata": {
        "id": "GvttQCe5VqhH"
      },
      "execution_count": null,
      "outputs": []
    },
    {
      "cell_type": "markdown",
      "source": [
        "# 63. How does the __len__() method work in Python? Provide an example\n",
        "Purpose of __len__()\n",
        "\n",
        "The __len__() method in Python is used to define the behavior of the built-in len() function for user-defined objects.\n",
        "\n",
        "When you call len(object), Python internally calls object.__len__().\n",
        "\n",
        "It should return an integer (usually the size, count, or length of the object).\n"
      ],
      "metadata": {
        "id": "fPhvbhVFg4hF"
      }
    },
    {
      "cell_type": "code",
      "source": [
        "class BookCollection:\n",
        "    def __init__(self, books):\n",
        "        self.books = books\n",
        "\n",
        "    def __len__(self):\n",
        "        return len(self.books)   # return number of books\n",
        "\n",
        "\n",
        "# Example usage\n",
        "collection = BookCollection([\"Python Basics\", \"Data Science\", \"AI Guide\"])\n",
        "\n",
        "print(len(collection))   # calls __len__()\n"
      ],
      "metadata": {
        "colab": {
          "base_uri": "https://localhost:8080/"
        },
        "id": "agBRwfnqhBKu",
        "outputId": "2af6f63f-102c-413d-a5ab-1779b424a0bf"
      },
      "execution_count": 24,
      "outputs": [
        {
          "output_type": "stream",
          "name": "stdout",
          "text": [
            "3\n"
          ]
        }
      ]
    },
    {
      "cell_type": "markdown",
      "source": [
        "# 64.  Explain the usage of the __add__() method in Python classes. Provide an example/\n",
        "Purpose of __add__()\n",
        "\n",
        "* The __add__() method in Python is a special method (operator overloading) that\n",
        "\n",
        "* lets you define what happens when you use the + operator with objects of your class.\n",
        "\n",
        "* By default, + works on numbers and strings.\n",
        "\n",
        "With __add__(), you can make it work for your own custom objects."
      ],
      "metadata": {
        "id": "GlZXWinvhSRu"
      }
    },
    {
      "cell_type": "code",
      "source": [
        "class Number:\n",
        "    def __init__(self, value):\n",
        "        self.value = value\n",
        "\n",
        "    def __add__(self, other):   # + operator ko define kar diya\n",
        "        return Number(self.value + other.value)\n",
        "\n",
        "    def __str__(self):\n",
        "        return str(self.value)\n",
        "\n",
        "\n",
        "# Example\n",
        "n1 = Number(10)\n",
        "n2 = Number(20)\n",
        "\n",
        "print(n1 + n2)   # calls __add__()\n"
      ],
      "metadata": {
        "colab": {
          "base_uri": "https://localhost:8080/"
        },
        "id": "uBurYINVhUky",
        "outputId": "f0320c0e-4457-4469-ae63-6a123569b54c"
      },
      "execution_count": 26,
      "outputs": [
        {
          "output_type": "stream",
          "name": "stdout",
          "text": [
            "30\n"
          ]
        }
      ]
    },
    {
      "cell_type": "markdown",
      "source": [
        "# 65. What is the purpose of the __getitem__() method in Python? Provide an example\n",
        "\n",
        "Purpose of __getitem__()\n",
        "\n",
        "The __getitem__() method in Python is used to make objects subscriptable, i.e., you can use the square bracket notation obj[index] just like lists, tuples, or dictionaries.\n",
        "\n",
        "* When you call obj[key], Python internally calls obj.__getitem__(key)."
      ],
      "metadata": {
        "id": "gvVjFzWJiMa1"
      }
    },
    {
      "cell_type": "code",
      "source": [
        "class MyList:\n",
        "    def __init__(self, data):\n",
        "        self.data = data\n",
        "\n",
        "    def __getitem__(self, index):\n",
        "        return self.data[index]   # forward indexing to the list\n",
        "\n",
        "\n",
        "# Example usage\n",
        "ml = MyList([10, 20, 30, 40])\n",
        "\n",
        "print(ml[0])   # calls __getitem__(0)\n",
        "print(ml[2])   # calls __getitem__(2)\n"
      ],
      "metadata": {
        "colab": {
          "base_uri": "https://localhost:8080/"
        },
        "id": "cj60AZBPiZmb",
        "outputId": "0b285c53-fc73-417e-dd59-4c2dc1dfc418"
      },
      "execution_count": 28,
      "outputs": [
        {
          "output_type": "stream",
          "name": "stdout",
          "text": [
            "10\n",
            "30\n"
          ]
        }
      ]
    },
    {
      "cell_type": "markdown",
      "source": [
        "# 66. Explain the usage of the __iter__() and __next__() methods in Python. Provide an example using iterators\n",
        "\n",
        "Purpose of __iter__() and __next__()\n",
        "\n",
        "In Python, iterators are objects you can loop over (using for, while, or next()).\n",
        "To make a class an iterator, you define two special methods:\n",
        "\n",
        "* __iter__(self) → returns the iterator object itself.\n",
        "\n",
        "* __next__(self) → returns the next item in the sequence. If there are no more items, it should raise StopIteration."
      ],
      "metadata": {
        "id": "pcN3zy8iioFn"
      }
    },
    {
      "cell_type": "code",
      "source": [
        "class CountDown:\n",
        "    def __init__(self, start):\n",
        "        self.start = start\n",
        "\n",
        "    def __iter__(self):  # returns iterator object\n",
        "        return self\n",
        "\n",
        "    def __next__(self):  # defines what happens on each iteration\n",
        "        if self.start <= 0:\n",
        "            raise StopIteration\n",
        "        current = self.start\n",
        "        self.start -= 1\n",
        "        return current\n",
        "\n",
        "\n",
        "# Example usage\n",
        "cd = CountDown(5)\n",
        "\n",
        "for num in cd:   # calls __iter__() then __next__()\n",
        "    print(num)\n"
      ],
      "metadata": {
        "colab": {
          "base_uri": "https://localhost:8080/"
        },
        "id": "b_9t7xUWi0tq",
        "outputId": "d30d52dd-f059-42ef-f3b2-d03eb9375692"
      },
      "execution_count": 30,
      "outputs": [
        {
          "output_type": "stream",
          "name": "stdout",
          "text": [
            "5\n",
            "4\n",
            "3\n",
            "2\n",
            "1\n"
          ]
        }
      ]
    },
    {
      "cell_type": "markdown",
      "source": [
        "# 67. What is the purpose of a getter method in Python? Provide an example demonstrating the use of a getter method using property decorators.\n",
        "\n",
        "Purpose of a Getter Method\n",
        "\n",
        "* A getter method in Python is used to access the value of a private attribute safely.\n",
        "\n",
        "* Instead of directly accessing the variable, we use a getter to enforce encapsulation.\n",
        "\n",
        "* With @property decorator, we can make a method act like an attribute (clean syntax)"
      ],
      "metadata": {
        "id": "t87r4ge9i96z"
      }
    },
    {
      "cell_type": "code",
      "source": [
        "class Employee:\n",
        "    def __init__(self, name, salary):\n",
        "        self._name = name           # private attribute (convention: underscore)\n",
        "        self._salary = salary\n",
        "\n",
        "    @property\n",
        "    def salary(self):               # getter method\n",
        "        return self._salary\n",
        "\n",
        "\n",
        "# Example usage\n",
        "emp = Employee(\"Anmol\", 50000)\n",
        "\n",
        "print(emp.salary)   # uses getter method\n"
      ],
      "metadata": {
        "colab": {
          "base_uri": "https://localhost:8080/"
        },
        "id": "T2WJAAfMjB1o",
        "outputId": "3eba149a-3b46-4719-f56f-694774b96a9a"
      },
      "execution_count": 31,
      "outputs": [
        {
          "output_type": "stream",
          "name": "stdout",
          "text": [
            "50000\n"
          ]
        }
      ]
    },
    {
      "cell_type": "markdown",
      "source": [
        "# 68. Explain the role of setter methods in Python. Demonstrate how to use a setter method to modify a class attribute using property decorators.\n",
        "\n",
        "Purpose of Setter Methods\n",
        "\n",
        "* A setter method in Python is used to modify the value of a private attribute safely.\n",
        "\n",
        "* Combined with @property, it allows controlled access to attributes, enforcing encapsulation.\n",
        "\n",
        "* You can add validation or logic when setting a value."
      ],
      "metadata": {
        "id": "fTpij0Ptje-j"
      }
    },
    {
      "cell_type": "code",
      "source": [
        "class Employee:\n",
        "    def __init__(self, salary): self._salary = salary\n",
        "\n",
        "    @property\n",
        "    def salary(self): return self._salary\n",
        "\n",
        "    @salary.setter\n",
        "    def salary(self, value): self._salary = value if value >= 0 else print(\"Invalid!\")\n",
        "\n",
        "# Example\n",
        "emp = Employee(50000)\n",
        "print(emp.salary)\n",
        "emp.salary = 100000\n",
        "print(emp.salary)\n",
        "emp.salary = -1000\n",
        "print(emp.salary)\n"
      ],
      "metadata": {
        "colab": {
          "base_uri": "https://localhost:8080/"
        },
        "id": "nGHAHNrwjwbQ",
        "outputId": "b3553c9b-e7b9-4555-d3ab-d9abcae40d2b"
      },
      "execution_count": 35,
      "outputs": [
        {
          "output_type": "stream",
          "name": "stdout",
          "text": [
            "50000\n",
            "100000\n",
            "Invalid!\n",
            "None\n"
          ]
        }
      ]
    },
    {
      "cell_type": "markdown",
      "source": [
        "# 69. What is the purpose of the @property decorator in Python? Provide an example illustrating its usage\n",
        "\n",
        "Purpose of @property\n",
        "\n",
        "* The @property decorator is used to turn a method into a read-only attribute.\n",
        "\n",
        "* It allows you to access a method like an attribute, providing controlled access to private variables.\n",
        "\n",
        "* Often used with getter and setter methods to implement encapsulation"
      ],
      "metadata": {
        "id": "SKpAqYpKkS9J"
      }
    },
    {
      "cell_type": "code",
      "source": [
        "class Employee:\n",
        "    def __init__(self, salary):\n",
        "        self._salary = salary  # private attribute\n",
        "\n",
        "    @property\n",
        "    def salary(self):         # getter\n",
        "        return self._salary\n",
        "\n",
        "    @salary.setter\n",
        "    def salary(self, value):  # setter\n",
        "        if value >= 0:\n",
        "            self._salary = value\n",
        "        else:\n",
        "            print(\"Invalid salary!\")\n",
        "\n",
        "# Example usage\n",
        "emp = Employee(50000)\n",
        "print(emp.salary)\n",
        "emp.salary = 60000\n",
        "print(emp.salary)\n",
        "emp.salary = -1000\n",
        "print(emp.salary)\n"
      ],
      "metadata": {
        "colab": {
          "base_uri": "https://localhost:8080/"
        },
        "id": "eoFucQ1BkXOL",
        "outputId": "baf30b51-785c-4ada-bb89-87a03c9dd903"
      },
      "execution_count": 37,
      "outputs": [
        {
          "output_type": "stream",
          "name": "stdout",
          "text": [
            "50000\n",
            "60000\n",
            "Invalid salary!\n",
            "60000\n"
          ]
        }
      ]
    },
    {
      "cell_type": "markdown",
      "source": [
        "# 70. Explain the use of the @deleter decorator in Python property decorators. Provide a code example demonstrating its application\n",
        "\n",
        "Purpose of @<property>.deleter\n",
        "\n",
        "* The @deleter decorator allows you to define behavior when an attribute is deleted using the del keyword.\n",
        "\n",
        "* It works with a property to safely remove or reset a private attribute instead of deleting it directly."
      ],
      "metadata": {
        "id": "o__ZGGqPlXLD"
      }
    },
    {
      "cell_type": "code",
      "source": [
        "class Employee:\n",
        "    def __init__(self, salary): self._salary = salary\n",
        "\n",
        "    @property\n",
        "    def salary(self): return self._salary\n",
        "\n",
        "    @salary.setter\n",
        "    def salary(self, value): self._salary = value if value >= 0 else print(\"Invalid!\")\n",
        "\n",
        "    @salary.deleter\n",
        "    def salary(self): print(\"Deleting salary...\"); self._salary = 0\n",
        "\n",
        "# Example\n",
        "emp = Employee(50000)\n",
        "print(emp.salary)\n",
        "emp.salary = 60000\n",
        "print(emp.salary)\n",
        "del emp.salary\n",
        "print(emp.salary)"
      ],
      "metadata": {
        "colab": {
          "base_uri": "https://localhost:8080/"
        },
        "id": "sN9K1gLdlhfU",
        "outputId": "d378bfc2-7828-41f2-c7d9-6d19217cbde1"
      },
      "execution_count": 38,
      "outputs": [
        {
          "output_type": "stream",
          "name": "stdout",
          "text": [
            "50000\n",
            "60000\n",
            "Deleting salary...\n",
            "0\n"
          ]
        }
      ]
    },
    {
      "cell_type": "markdown",
      "source": [
        "# 71. How does encapsulation relate to property decorators in Python? Provide an example showcasing encapsulation using property decorators\n",
        "\n",
        "Encapsulation & Property Decorators\n",
        "\n",
        "* Encapsulation means hiding internal details of a class and controlling access to its attributes.\n",
        "\n",
        "* In Python, we usually make attributes private using _attribute and provide getter, setter, and deleter methods.\n",
        "\n",
        "* Property decorators (@property) make these methods look like normal attributes, keeping the class interface clean and safe."
      ],
      "metadata": {
        "id": "fiMGSz2Altlh"
      }
    },
    {
      "cell_type": "code",
      "source": [
        "class Employee:\n",
        "    def __init__(self, salary): self._salary = salary  # private attribute\n",
        "\n",
        "    @property\n",
        "    def salary(self): return self._salary             # getter\n",
        "\n",
        "    @salary.setter\n",
        "    def salary(self, value): self._salary = value if value >= 0 else print(\"Invalid!\")  # setter\n",
        "\n",
        "    @salary.deleter\n",
        "    def salary(self): print(\"Deleting salary...\"); self._salary = 0  # deleter\n",
        "\n",
        "# Example\n",
        "emp = Employee(50000)\n",
        "print(emp.salary)\n",
        "emp.salary = 60000\n",
        "print(emp.salary)\n",
        "emp.salary = -1000\n",
        "print(emp.salary)\n"
      ],
      "metadata": {
        "colab": {
          "base_uri": "https://localhost:8080/"
        },
        "id": "-efEsH-blwsb",
        "outputId": "2b3b7774-fe61-47ee-99c1-a90f07615471"
      },
      "execution_count": 40,
      "outputs": [
        {
          "output_type": "stream",
          "name": "stdout",
          "text": [
            "50000\n",
            "60000\n",
            "Invalid!\n",
            "None\n"
          ]
        }
      ]
    }
  ]
}